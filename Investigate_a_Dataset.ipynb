{
 "cells": [
  {
   "cell_type": "markdown",
   "metadata": {},
   "source": [
    "# Project: Investigate a Dataset - [The Movie Database (TMDb)]\n",
    "\n",
    "## Table of Contents\n",
    "<ul>\n",
    "<li><a href=\"#intro\">Introduction</a></li>\n",
    "<li><a href=\"#wrangling\">Data Wrangling</a></li>\n",
    "<li><a href=\"#eda\">Exploratory Data Analysis</a></li>\n",
    "<li><a href=\"#conclusions\">Conclusions</a></li>\n",
    "</ul>"
   ]
  },
  {
   "cell_type": "markdown",
   "metadata": {},
   "source": [
    "<a id='intro'></a>\n",
    "## Introduction\n",
    "\n",
    "### Dataset Description \n",
    "\n",
    "> This data set contains information about 10,000 movies collected from The Movie Database (TMDb), including user ratings and revenue. It contains details about the movies, the directors, genres and the total budgets and revenues from the movies.\n",
    "\n",
    "\n",
    "\n",
    "### Question(s) for Analysis\n",
    "> During this Analysis, We would address some question drawn from this question. The few questions that would be addressed a listed below:\n",
    "> <li>What are the top 5 most popular movies released between 1960-2015?</li>\n",
    "><li>In the 21st Century, In which year was the most movies released?</li>\n",
    "><li>Which directors produced the most movies in the 21st Century?</li>\n",
    "><li>In what year was the most profit made?</li>"
   ]
  },
  {
   "cell_type": "code",
   "execution_count": 1,
   "metadata": {
    "collapsed": true
   },
   "outputs": [],
   "source": [
    "# Importing libraries for analysis\n",
    "import pandas as pd\n",
    "import matplotlib.pyplot as plt\n",
    "import seaborn as sns\n",
    "%matplotlib  inline"
   ]
  },
  {
   "cell_type": "code",
   "execution_count": 2,
   "outputs": [],
   "source": [
    "def read_data(file_path):\n",
    "    data = pd.read_csv(file_path)\n",
    "    return data"
   ],
   "metadata": {
    "collapsed": false,
    "pycharm": {
     "name": "#%%\n"
    }
   }
  },
  {
   "cell_type": "code",
   "execution_count": 3,
   "metadata": {},
   "outputs": [],
   "source": [
    "mov_df = read_data('tmdb-movies.csv')"
   ]
  },
  {
   "cell_type": "code",
   "execution_count": 4,
   "outputs": [
    {
     "data": {
      "text/plain": "       id    imdb_id  popularity     budget     revenue  \\\n0  135397  tt0369610   32.985763  150000000  1513528810   \n1   76341  tt1392190   28.419936  150000000   378436354   \n2  262500  tt2908446   13.112507  110000000   295238201   \n3  140607  tt2488496   11.173104  200000000  2068178225   \n4  168259  tt2820852    9.335014  190000000  1506249360   \n\n                 original_title  \\\n0                Jurassic World   \n1            Mad Max: Fury Road   \n2                     Insurgent   \n3  Star Wars: The Force Awakens   \n4                     Furious 7   \n\n                                                cast  \\\n0  Chris Pratt|Bryce Dallas Howard|Irrfan Khan|Vi...   \n1  Tom Hardy|Charlize Theron|Hugh Keays-Byrne|Nic...   \n2  Shailene Woodley|Theo James|Kate Winslet|Ansel...   \n3  Harrison Ford|Mark Hamill|Carrie Fisher|Adam D...   \n4  Vin Diesel|Paul Walker|Jason Statham|Michelle ...   \n\n                                            homepage          director  \\\n0                      http://www.jurassicworld.com/   Colin Trevorrow   \n1                        http://www.madmaxmovie.com/     George Miller   \n2     http://www.thedivergentseries.movie/#insurgent  Robert Schwentke   \n3  http://www.starwars.com/films/star-wars-episod...       J.J. Abrams   \n4                           http://www.furious7.com/         James Wan   \n\n                         tagline  ...  \\\n0              The park is open.  ...   \n1             What a Lovely Day.  ...   \n2     One Choice Can Destroy You  ...   \n3  Every generation has a story.  ...   \n4            Vengeance Hits Home  ...   \n\n                                            overview runtime  \\\n0  Twenty-two years after the events of Jurassic ...     124   \n1  An apocalyptic story set in the furthest reach...     120   \n2  Beatrice Prior must confront her inner demons ...     119   \n3  Thirty years after defeating the Galactic Empi...     136   \n4  Deckard Shaw seeks revenge against Dominic Tor...     137   \n\n                                      genres  \\\n0  Action|Adventure|Science Fiction|Thriller   \n1  Action|Adventure|Science Fiction|Thriller   \n2         Adventure|Science Fiction|Thriller   \n3   Action|Adventure|Science Fiction|Fantasy   \n4                      Action|Crime|Thriller   \n\n                                production_companies release_date vote_count  \\\n0  Universal Studios|Amblin Entertainment|Legenda...       6/9/15       5562   \n1  Village Roadshow Pictures|Kennedy Miller Produ...      5/13/15       6185   \n2  Summit Entertainment|Mandeville Films|Red Wago...      3/18/15       2480   \n3          Lucasfilm|Truenorth Productions|Bad Robot     12/15/15       5292   \n4  Universal Pictures|Original Film|Media Rights ...       4/1/15       2947   \n\n   vote_average  release_year    budget_adj   revenue_adj  \n0           6.5          2015  1.379999e+08  1.392446e+09  \n1           7.1          2015  1.379999e+08  3.481613e+08  \n2           6.3          2015  1.012000e+08  2.716190e+08  \n3           7.5          2015  1.839999e+08  1.902723e+09  \n4           7.3          2015  1.747999e+08  1.385749e+09  \n\n[5 rows x 21 columns]",
      "text/html": "<div>\n<style scoped>\n    .dataframe tbody tr th:only-of-type {\n        vertical-align: middle;\n    }\n\n    .dataframe tbody tr th {\n        vertical-align: top;\n    }\n\n    .dataframe thead th {\n        text-align: right;\n    }\n</style>\n<table border=\"1\" class=\"dataframe\">\n  <thead>\n    <tr style=\"text-align: right;\">\n      <th></th>\n      <th>id</th>\n      <th>imdb_id</th>\n      <th>popularity</th>\n      <th>budget</th>\n      <th>revenue</th>\n      <th>original_title</th>\n      <th>cast</th>\n      <th>homepage</th>\n      <th>director</th>\n      <th>tagline</th>\n      <th>...</th>\n      <th>overview</th>\n      <th>runtime</th>\n      <th>genres</th>\n      <th>production_companies</th>\n      <th>release_date</th>\n      <th>vote_count</th>\n      <th>vote_average</th>\n      <th>release_year</th>\n      <th>budget_adj</th>\n      <th>revenue_adj</th>\n    </tr>\n  </thead>\n  <tbody>\n    <tr>\n      <th>0</th>\n      <td>135397</td>\n      <td>tt0369610</td>\n      <td>32.985763</td>\n      <td>150000000</td>\n      <td>1513528810</td>\n      <td>Jurassic World</td>\n      <td>Chris Pratt|Bryce Dallas Howard|Irrfan Khan|Vi...</td>\n      <td>http://www.jurassicworld.com/</td>\n      <td>Colin Trevorrow</td>\n      <td>The park is open.</td>\n      <td>...</td>\n      <td>Twenty-two years after the events of Jurassic ...</td>\n      <td>124</td>\n      <td>Action|Adventure|Science Fiction|Thriller</td>\n      <td>Universal Studios|Amblin Entertainment|Legenda...</td>\n      <td>6/9/15</td>\n      <td>5562</td>\n      <td>6.5</td>\n      <td>2015</td>\n      <td>1.379999e+08</td>\n      <td>1.392446e+09</td>\n    </tr>\n    <tr>\n      <th>1</th>\n      <td>76341</td>\n      <td>tt1392190</td>\n      <td>28.419936</td>\n      <td>150000000</td>\n      <td>378436354</td>\n      <td>Mad Max: Fury Road</td>\n      <td>Tom Hardy|Charlize Theron|Hugh Keays-Byrne|Nic...</td>\n      <td>http://www.madmaxmovie.com/</td>\n      <td>George Miller</td>\n      <td>What a Lovely Day.</td>\n      <td>...</td>\n      <td>An apocalyptic story set in the furthest reach...</td>\n      <td>120</td>\n      <td>Action|Adventure|Science Fiction|Thriller</td>\n      <td>Village Roadshow Pictures|Kennedy Miller Produ...</td>\n      <td>5/13/15</td>\n      <td>6185</td>\n      <td>7.1</td>\n      <td>2015</td>\n      <td>1.379999e+08</td>\n      <td>3.481613e+08</td>\n    </tr>\n    <tr>\n      <th>2</th>\n      <td>262500</td>\n      <td>tt2908446</td>\n      <td>13.112507</td>\n      <td>110000000</td>\n      <td>295238201</td>\n      <td>Insurgent</td>\n      <td>Shailene Woodley|Theo James|Kate Winslet|Ansel...</td>\n      <td>http://www.thedivergentseries.movie/#insurgent</td>\n      <td>Robert Schwentke</td>\n      <td>One Choice Can Destroy You</td>\n      <td>...</td>\n      <td>Beatrice Prior must confront her inner demons ...</td>\n      <td>119</td>\n      <td>Adventure|Science Fiction|Thriller</td>\n      <td>Summit Entertainment|Mandeville Films|Red Wago...</td>\n      <td>3/18/15</td>\n      <td>2480</td>\n      <td>6.3</td>\n      <td>2015</td>\n      <td>1.012000e+08</td>\n      <td>2.716190e+08</td>\n    </tr>\n    <tr>\n      <th>3</th>\n      <td>140607</td>\n      <td>tt2488496</td>\n      <td>11.173104</td>\n      <td>200000000</td>\n      <td>2068178225</td>\n      <td>Star Wars: The Force Awakens</td>\n      <td>Harrison Ford|Mark Hamill|Carrie Fisher|Adam D...</td>\n      <td>http://www.starwars.com/films/star-wars-episod...</td>\n      <td>J.J. Abrams</td>\n      <td>Every generation has a story.</td>\n      <td>...</td>\n      <td>Thirty years after defeating the Galactic Empi...</td>\n      <td>136</td>\n      <td>Action|Adventure|Science Fiction|Fantasy</td>\n      <td>Lucasfilm|Truenorth Productions|Bad Robot</td>\n      <td>12/15/15</td>\n      <td>5292</td>\n      <td>7.5</td>\n      <td>2015</td>\n      <td>1.839999e+08</td>\n      <td>1.902723e+09</td>\n    </tr>\n    <tr>\n      <th>4</th>\n      <td>168259</td>\n      <td>tt2820852</td>\n      <td>9.335014</td>\n      <td>190000000</td>\n      <td>1506249360</td>\n      <td>Furious 7</td>\n      <td>Vin Diesel|Paul Walker|Jason Statham|Michelle ...</td>\n      <td>http://www.furious7.com/</td>\n      <td>James Wan</td>\n      <td>Vengeance Hits Home</td>\n      <td>...</td>\n      <td>Deckard Shaw seeks revenge against Dominic Tor...</td>\n      <td>137</td>\n      <td>Action|Crime|Thriller</td>\n      <td>Universal Pictures|Original Film|Media Rights ...</td>\n      <td>4/1/15</td>\n      <td>2947</td>\n      <td>7.3</td>\n      <td>2015</td>\n      <td>1.747999e+08</td>\n      <td>1.385749e+09</td>\n    </tr>\n  </tbody>\n</table>\n<p>5 rows × 21 columns</p>\n</div>"
     },
     "execution_count": 4,
     "metadata": {},
     "output_type": "execute_result"
    }
   ],
   "source": [
    "mov_df.head()"
   ],
   "metadata": {
    "collapsed": false,
    "pycharm": {
     "name": "#%%\n"
    }
   }
  },
  {
   "cell_type": "markdown",
   "metadata": {},
   "source": [
    "<a id='wrangling'></a>\n",
    "## Data Wrangling\n",
    "\n",
    "> In this section, we will load in the data, check for cleanliness, and then trim and clean your dataset for analysis.\n",
    "\n",
    "### General Properties"
   ]
  },
  {
   "cell_type": "code",
   "execution_count": 5,
   "metadata": {
    "collapsed": true
   },
   "outputs": [
    {
     "data": {
      "text/plain": "       id    imdb_id  popularity     budget     revenue  \\\n0  135397  tt0369610   32.985763  150000000  1513528810   \n1   76341  tt1392190   28.419936  150000000   378436354   \n2  262500  tt2908446   13.112507  110000000   295238201   \n3  140607  tt2488496   11.173104  200000000  2068178225   \n4  168259  tt2820852    9.335014  190000000  1506249360   \n\n                 original_title  \\\n0                Jurassic World   \n1            Mad Max: Fury Road   \n2                     Insurgent   \n3  Star Wars: The Force Awakens   \n4                     Furious 7   \n\n                                                cast  \\\n0  Chris Pratt|Bryce Dallas Howard|Irrfan Khan|Vi...   \n1  Tom Hardy|Charlize Theron|Hugh Keays-Byrne|Nic...   \n2  Shailene Woodley|Theo James|Kate Winslet|Ansel...   \n3  Harrison Ford|Mark Hamill|Carrie Fisher|Adam D...   \n4  Vin Diesel|Paul Walker|Jason Statham|Michelle ...   \n\n                                            homepage          director  \\\n0                      http://www.jurassicworld.com/   Colin Trevorrow   \n1                        http://www.madmaxmovie.com/     George Miller   \n2     http://www.thedivergentseries.movie/#insurgent  Robert Schwentke   \n3  http://www.starwars.com/films/star-wars-episod...       J.J. Abrams   \n4                           http://www.furious7.com/         James Wan   \n\n                         tagline  ...  \\\n0              The park is open.  ...   \n1             What a Lovely Day.  ...   \n2     One Choice Can Destroy You  ...   \n3  Every generation has a story.  ...   \n4            Vengeance Hits Home  ...   \n\n                                            overview runtime  \\\n0  Twenty-two years after the events of Jurassic ...     124   \n1  An apocalyptic story set in the furthest reach...     120   \n2  Beatrice Prior must confront her inner demons ...     119   \n3  Thirty years after defeating the Galactic Empi...     136   \n4  Deckard Shaw seeks revenge against Dominic Tor...     137   \n\n                                      genres  \\\n0  Action|Adventure|Science Fiction|Thriller   \n1  Action|Adventure|Science Fiction|Thriller   \n2         Adventure|Science Fiction|Thriller   \n3   Action|Adventure|Science Fiction|Fantasy   \n4                      Action|Crime|Thriller   \n\n                                production_companies release_date vote_count  \\\n0  Universal Studios|Amblin Entertainment|Legenda...       6/9/15       5562   \n1  Village Roadshow Pictures|Kennedy Miller Produ...      5/13/15       6185   \n2  Summit Entertainment|Mandeville Films|Red Wago...      3/18/15       2480   \n3          Lucasfilm|Truenorth Productions|Bad Robot     12/15/15       5292   \n4  Universal Pictures|Original Film|Media Rights ...       4/1/15       2947   \n\n   vote_average  release_year    budget_adj   revenue_adj  \n0           6.5          2015  1.379999e+08  1.392446e+09  \n1           7.1          2015  1.379999e+08  3.481613e+08  \n2           6.3          2015  1.012000e+08  2.716190e+08  \n3           7.5          2015  1.839999e+08  1.902723e+09  \n4           7.3          2015  1.747999e+08  1.385749e+09  \n\n[5 rows x 21 columns]",
      "text/html": "<div>\n<style scoped>\n    .dataframe tbody tr th:only-of-type {\n        vertical-align: middle;\n    }\n\n    .dataframe tbody tr th {\n        vertical-align: top;\n    }\n\n    .dataframe thead th {\n        text-align: right;\n    }\n</style>\n<table border=\"1\" class=\"dataframe\">\n  <thead>\n    <tr style=\"text-align: right;\">\n      <th></th>\n      <th>id</th>\n      <th>imdb_id</th>\n      <th>popularity</th>\n      <th>budget</th>\n      <th>revenue</th>\n      <th>original_title</th>\n      <th>cast</th>\n      <th>homepage</th>\n      <th>director</th>\n      <th>tagline</th>\n      <th>...</th>\n      <th>overview</th>\n      <th>runtime</th>\n      <th>genres</th>\n      <th>production_companies</th>\n      <th>release_date</th>\n      <th>vote_count</th>\n      <th>vote_average</th>\n      <th>release_year</th>\n      <th>budget_adj</th>\n      <th>revenue_adj</th>\n    </tr>\n  </thead>\n  <tbody>\n    <tr>\n      <th>0</th>\n      <td>135397</td>\n      <td>tt0369610</td>\n      <td>32.985763</td>\n      <td>150000000</td>\n      <td>1513528810</td>\n      <td>Jurassic World</td>\n      <td>Chris Pratt|Bryce Dallas Howard|Irrfan Khan|Vi...</td>\n      <td>http://www.jurassicworld.com/</td>\n      <td>Colin Trevorrow</td>\n      <td>The park is open.</td>\n      <td>...</td>\n      <td>Twenty-two years after the events of Jurassic ...</td>\n      <td>124</td>\n      <td>Action|Adventure|Science Fiction|Thriller</td>\n      <td>Universal Studios|Amblin Entertainment|Legenda...</td>\n      <td>6/9/15</td>\n      <td>5562</td>\n      <td>6.5</td>\n      <td>2015</td>\n      <td>1.379999e+08</td>\n      <td>1.392446e+09</td>\n    </tr>\n    <tr>\n      <th>1</th>\n      <td>76341</td>\n      <td>tt1392190</td>\n      <td>28.419936</td>\n      <td>150000000</td>\n      <td>378436354</td>\n      <td>Mad Max: Fury Road</td>\n      <td>Tom Hardy|Charlize Theron|Hugh Keays-Byrne|Nic...</td>\n      <td>http://www.madmaxmovie.com/</td>\n      <td>George Miller</td>\n      <td>What a Lovely Day.</td>\n      <td>...</td>\n      <td>An apocalyptic story set in the furthest reach...</td>\n      <td>120</td>\n      <td>Action|Adventure|Science Fiction|Thriller</td>\n      <td>Village Roadshow Pictures|Kennedy Miller Produ...</td>\n      <td>5/13/15</td>\n      <td>6185</td>\n      <td>7.1</td>\n      <td>2015</td>\n      <td>1.379999e+08</td>\n      <td>3.481613e+08</td>\n    </tr>\n    <tr>\n      <th>2</th>\n      <td>262500</td>\n      <td>tt2908446</td>\n      <td>13.112507</td>\n      <td>110000000</td>\n      <td>295238201</td>\n      <td>Insurgent</td>\n      <td>Shailene Woodley|Theo James|Kate Winslet|Ansel...</td>\n      <td>http://www.thedivergentseries.movie/#insurgent</td>\n      <td>Robert Schwentke</td>\n      <td>One Choice Can Destroy You</td>\n      <td>...</td>\n      <td>Beatrice Prior must confront her inner demons ...</td>\n      <td>119</td>\n      <td>Adventure|Science Fiction|Thriller</td>\n      <td>Summit Entertainment|Mandeville Films|Red Wago...</td>\n      <td>3/18/15</td>\n      <td>2480</td>\n      <td>6.3</td>\n      <td>2015</td>\n      <td>1.012000e+08</td>\n      <td>2.716190e+08</td>\n    </tr>\n    <tr>\n      <th>3</th>\n      <td>140607</td>\n      <td>tt2488496</td>\n      <td>11.173104</td>\n      <td>200000000</td>\n      <td>2068178225</td>\n      <td>Star Wars: The Force Awakens</td>\n      <td>Harrison Ford|Mark Hamill|Carrie Fisher|Adam D...</td>\n      <td>http://www.starwars.com/films/star-wars-episod...</td>\n      <td>J.J. Abrams</td>\n      <td>Every generation has a story.</td>\n      <td>...</td>\n      <td>Thirty years after defeating the Galactic Empi...</td>\n      <td>136</td>\n      <td>Action|Adventure|Science Fiction|Fantasy</td>\n      <td>Lucasfilm|Truenorth Productions|Bad Robot</td>\n      <td>12/15/15</td>\n      <td>5292</td>\n      <td>7.5</td>\n      <td>2015</td>\n      <td>1.839999e+08</td>\n      <td>1.902723e+09</td>\n    </tr>\n    <tr>\n      <th>4</th>\n      <td>168259</td>\n      <td>tt2820852</td>\n      <td>9.335014</td>\n      <td>190000000</td>\n      <td>1506249360</td>\n      <td>Furious 7</td>\n      <td>Vin Diesel|Paul Walker|Jason Statham|Michelle ...</td>\n      <td>http://www.furious7.com/</td>\n      <td>James Wan</td>\n      <td>Vengeance Hits Home</td>\n      <td>...</td>\n      <td>Deckard Shaw seeks revenge against Dominic Tor...</td>\n      <td>137</td>\n      <td>Action|Crime|Thriller</td>\n      <td>Universal Pictures|Original Film|Media Rights ...</td>\n      <td>4/1/15</td>\n      <td>2947</td>\n      <td>7.3</td>\n      <td>2015</td>\n      <td>1.747999e+08</td>\n      <td>1.385749e+09</td>\n    </tr>\n  </tbody>\n</table>\n<p>5 rows × 21 columns</p>\n</div>"
     },
     "execution_count": 5,
     "metadata": {},
     "output_type": "execute_result"
    }
   ],
   "source": [
    "mov_df.head() # A glimpse of the dataset"
   ]
  },
  {
   "cell_type": "code",
   "execution_count": 6,
   "outputs": [
    {
     "data": {
      "text/plain": "(10866, 21)"
     },
     "execution_count": 6,
     "metadata": {},
     "output_type": "execute_result"
    }
   ],
   "source": [
    "mov_df.shape"
   ],
   "metadata": {
    "collapsed": false,
    "pycharm": {
     "name": "#%%\n"
    }
   }
  },
  {
   "cell_type": "code",
   "execution_count": 7,
   "outputs": [
    {
     "name": "stdout",
     "output_type": "stream",
     "text": [
      "<class 'pandas.core.frame.DataFrame'>\n",
      "RangeIndex: 10866 entries, 0 to 10865\n",
      "Data columns (total 21 columns):\n",
      " #   Column                Non-Null Count  Dtype  \n",
      "---  ------                --------------  -----  \n",
      " 0   id                    10866 non-null  int64  \n",
      " 1   imdb_id               10856 non-null  object \n",
      " 2   popularity            10866 non-null  float64\n",
      " 3   budget                10866 non-null  int64  \n",
      " 4   revenue               10866 non-null  int64  \n",
      " 5   original_title        10866 non-null  object \n",
      " 6   cast                  10790 non-null  object \n",
      " 7   homepage              2936 non-null   object \n",
      " 8   director              10822 non-null  object \n",
      " 9   tagline               8042 non-null   object \n",
      " 10  keywords              9373 non-null   object \n",
      " 11  overview              10862 non-null  object \n",
      " 12  runtime               10866 non-null  int64  \n",
      " 13  genres                10843 non-null  object \n",
      " 14  production_companies  9836 non-null   object \n",
      " 15  release_date          10866 non-null  object \n",
      " 16  vote_count            10866 non-null  int64  \n",
      " 17  vote_average          10866 non-null  float64\n",
      " 18  release_year          10866 non-null  int64  \n",
      " 19  budget_adj            10866 non-null  float64\n",
      " 20  revenue_adj           10866 non-null  float64\n",
      "dtypes: float64(4), int64(6), object(11)\n",
      "memory usage: 1.7+ MB\n"
     ]
    }
   ],
   "source": [
    "mov_df.info()  # Gives all the information about the dataset. Showing the name, data types of each column and the non-null count."
   ],
   "metadata": {
    "collapsed": false,
    "pycharm": {
     "name": "#%%\n"
    }
   }
  },
  {
   "cell_type": "code",
   "execution_count": 8,
   "outputs": [
    {
     "data": {
      "text/plain": "                  id    popularity        budget       revenue       runtime  \\\ncount   10866.000000  10866.000000  1.086600e+04  1.086600e+04  10866.000000   \nmean    66064.177434      0.646441  1.462570e+07  3.982332e+07    102.070863   \nstd     92130.136561      1.000185  3.091321e+07  1.170035e+08     31.381405   \nmin         5.000000      0.000065  0.000000e+00  0.000000e+00      0.000000   \n25%     10596.250000      0.207583  0.000000e+00  0.000000e+00     90.000000   \n50%     20669.000000      0.383856  0.000000e+00  0.000000e+00     99.000000   \n75%     75610.000000      0.713817  1.500000e+07  2.400000e+07    111.000000   \nmax    417859.000000     32.985763  4.250000e+08  2.781506e+09    900.000000   \n\n         vote_count  vote_average  release_year    budget_adj   revenue_adj  \ncount  10866.000000  10866.000000  10866.000000  1.086600e+04  1.086600e+04  \nmean     217.389748      5.974922   2001.322658  1.755104e+07  5.136436e+07  \nstd      575.619058      0.935142     12.812941  3.430616e+07  1.446325e+08  \nmin       10.000000      1.500000   1960.000000  0.000000e+00  0.000000e+00  \n25%       17.000000      5.400000   1995.000000  0.000000e+00  0.000000e+00  \n50%       38.000000      6.000000   2006.000000  0.000000e+00  0.000000e+00  \n75%      145.750000      6.600000   2011.000000  2.085325e+07  3.369710e+07  \nmax     9767.000000      9.200000   2015.000000  4.250000e+08  2.827124e+09  ",
      "text/html": "<div>\n<style scoped>\n    .dataframe tbody tr th:only-of-type {\n        vertical-align: middle;\n    }\n\n    .dataframe tbody tr th {\n        vertical-align: top;\n    }\n\n    .dataframe thead th {\n        text-align: right;\n    }\n</style>\n<table border=\"1\" class=\"dataframe\">\n  <thead>\n    <tr style=\"text-align: right;\">\n      <th></th>\n      <th>id</th>\n      <th>popularity</th>\n      <th>budget</th>\n      <th>revenue</th>\n      <th>runtime</th>\n      <th>vote_count</th>\n      <th>vote_average</th>\n      <th>release_year</th>\n      <th>budget_adj</th>\n      <th>revenue_adj</th>\n    </tr>\n  </thead>\n  <tbody>\n    <tr>\n      <th>count</th>\n      <td>10866.000000</td>\n      <td>10866.000000</td>\n      <td>1.086600e+04</td>\n      <td>1.086600e+04</td>\n      <td>10866.000000</td>\n      <td>10866.000000</td>\n      <td>10866.000000</td>\n      <td>10866.000000</td>\n      <td>1.086600e+04</td>\n      <td>1.086600e+04</td>\n    </tr>\n    <tr>\n      <th>mean</th>\n      <td>66064.177434</td>\n      <td>0.646441</td>\n      <td>1.462570e+07</td>\n      <td>3.982332e+07</td>\n      <td>102.070863</td>\n      <td>217.389748</td>\n      <td>5.974922</td>\n      <td>2001.322658</td>\n      <td>1.755104e+07</td>\n      <td>5.136436e+07</td>\n    </tr>\n    <tr>\n      <th>std</th>\n      <td>92130.136561</td>\n      <td>1.000185</td>\n      <td>3.091321e+07</td>\n      <td>1.170035e+08</td>\n      <td>31.381405</td>\n      <td>575.619058</td>\n      <td>0.935142</td>\n      <td>12.812941</td>\n      <td>3.430616e+07</td>\n      <td>1.446325e+08</td>\n    </tr>\n    <tr>\n      <th>min</th>\n      <td>5.000000</td>\n      <td>0.000065</td>\n      <td>0.000000e+00</td>\n      <td>0.000000e+00</td>\n      <td>0.000000</td>\n      <td>10.000000</td>\n      <td>1.500000</td>\n      <td>1960.000000</td>\n      <td>0.000000e+00</td>\n      <td>0.000000e+00</td>\n    </tr>\n    <tr>\n      <th>25%</th>\n      <td>10596.250000</td>\n      <td>0.207583</td>\n      <td>0.000000e+00</td>\n      <td>0.000000e+00</td>\n      <td>90.000000</td>\n      <td>17.000000</td>\n      <td>5.400000</td>\n      <td>1995.000000</td>\n      <td>0.000000e+00</td>\n      <td>0.000000e+00</td>\n    </tr>\n    <tr>\n      <th>50%</th>\n      <td>20669.000000</td>\n      <td>0.383856</td>\n      <td>0.000000e+00</td>\n      <td>0.000000e+00</td>\n      <td>99.000000</td>\n      <td>38.000000</td>\n      <td>6.000000</td>\n      <td>2006.000000</td>\n      <td>0.000000e+00</td>\n      <td>0.000000e+00</td>\n    </tr>\n    <tr>\n      <th>75%</th>\n      <td>75610.000000</td>\n      <td>0.713817</td>\n      <td>1.500000e+07</td>\n      <td>2.400000e+07</td>\n      <td>111.000000</td>\n      <td>145.750000</td>\n      <td>6.600000</td>\n      <td>2011.000000</td>\n      <td>2.085325e+07</td>\n      <td>3.369710e+07</td>\n    </tr>\n    <tr>\n      <th>max</th>\n      <td>417859.000000</td>\n      <td>32.985763</td>\n      <td>4.250000e+08</td>\n      <td>2.781506e+09</td>\n      <td>900.000000</td>\n      <td>9767.000000</td>\n      <td>9.200000</td>\n      <td>2015.000000</td>\n      <td>4.250000e+08</td>\n      <td>2.827124e+09</td>\n    </tr>\n  </tbody>\n</table>\n</div>"
     },
     "execution_count": 8,
     "metadata": {},
     "output_type": "execute_result"
    }
   ],
   "source": [
    "mov_df.describe()  # carries out a statistical analysis of the dataset"
   ],
   "metadata": {
    "collapsed": false,
    "pycharm": {
     "name": "#%%\n"
    }
   }
  },
  {
   "cell_type": "markdown",
   "metadata": {},
   "source": [
    "> The above cells show indepth on the dataset. It shows a glimpse of some rows in the dataset, name and datatypes of the columns. Some columns have a few missing and duplicated rows.\n",
    "\n",
    "### Data Cleaning\n",
    "\n",
    "> In this section, we would check some duplicated rows and also some missing rows available in the dataset. We would drop some columns that would not be used for this and also fill in some rows."
   ]
  },
  {
   "cell_type": "code",
   "execution_count": 9,
   "metadata": {
    "collapsed": true
   },
   "outputs": [
    {
     "data": {
      "text/plain": "1"
     },
     "execution_count": 9,
     "metadata": {},
     "output_type": "execute_result"
    }
   ],
   "source": [
    "# Checking for the number of duplicated rows.\n",
    "mov_df.duplicated().sum()"
   ]
  },
  {
   "cell_type": "code",
   "execution_count": 10,
   "outputs": [
    {
     "data": {
      "text/plain": "0"
     },
     "execution_count": 10,
     "metadata": {},
     "output_type": "execute_result"
    }
   ],
   "source": [
    "# Dropping off duplicates present in the dataset.\n",
    "\n",
    "mov_df.drop_duplicates(inplace = True)\n",
    "mov_df.duplicated().sum()"
   ],
   "metadata": {
    "collapsed": false,
    "pycharm": {
     "name": "#%%\n"
    }
   }
  },
  {
   "cell_type": "code",
   "execution_count": 11,
   "outputs": [
    {
     "data": {
      "text/plain": "id                         0\nimdb_id                   10\npopularity                 0\nbudget                     0\nrevenue                    0\noriginal_title             0\ncast                      76\nhomepage                7929\ndirector                  44\ntagline                 2824\nkeywords                1493\noverview                   4\nruntime                    0\ngenres                    23\nproduction_companies    1030\nrelease_date               0\nvote_count                 0\nvote_average               0\nrelease_year               0\nbudget_adj                 0\nrevenue_adj                0\ndtype: int64"
     },
     "execution_count": 11,
     "metadata": {},
     "output_type": "execute_result"
    }
   ],
   "source": [
    "# Checking for missing data\n",
    "mov_df.isnull().sum()"
   ],
   "metadata": {
    "collapsed": false,
    "pycharm": {
     "name": "#%%\n"
    }
   }
  },
  {
   "cell_type": "code",
   "execution_count": 12,
   "outputs": [
    {
     "data": {
      "text/plain": "popularity         0\nbudget             0\nrevenue            0\noriginal_title     0\ncast              76\ndirector          44\nruntime            0\ngenres            23\nrelease_date       0\nvote_count         0\nvote_average       0\nrelease_year       0\nbudget_adj         0\nrevenue_adj        0\ndtype: int64"
     },
     "execution_count": 12,
     "metadata": {},
     "output_type": "execute_result"
    }
   ],
   "source": [
    "# Dropping off columns that would not be used during the analysis\n",
    "mov_df.drop(['id', 'imdb_id', 'homepage', 'tagline', 'keywords','overview', 'production_companies'], axis =1, inplace = True)\n",
    "mov_df.isnull().sum()"
   ],
   "metadata": {
    "collapsed": false,
    "pycharm": {
     "name": "#%%\n"
    }
   }
  },
  {
   "cell_type": "code",
   "execution_count": 13,
   "outputs": [
    {
     "data": {
      "text/plain": "popularity        0\nbudget            0\nrevenue           0\noriginal_title    0\ncast              0\ndirector          0\nruntime           0\ngenres            0\nrelease_date      0\nvote_count        0\nvote_average      0\nrelease_year      0\nbudget_adj        0\nrevenue_adj       0\ndtype: int64"
     },
     "execution_count": 13,
     "metadata": {},
     "output_type": "execute_result"
    }
   ],
   "source": [
    "# Dropping off the rows with missing values.\n",
    "mov_df.dropna(axis = 0, inplace = True)\n",
    "mov_df.isnull().sum()"
   ],
   "metadata": {
    "collapsed": false,
    "pycharm": {
     "name": "#%%\n"
    }
   }
  },
  {
   "cell_type": "code",
   "execution_count": 14,
   "outputs": [],
   "source": [
    "mov_df.genres =mov_df.genres.str.split('|')"
   ],
   "metadata": {
    "collapsed": false,
    "pycharm": {
     "name": "#%%\n"
    }
   }
  },
  {
   "cell_type": "code",
   "execution_count": 15,
   "outputs": [],
   "source": [
    "mov_df.cast =mov_df.cast.str.split('|')"
   ],
   "metadata": {
    "collapsed": false,
    "pycharm": {
     "name": "#%%\n"
    }
   }
  },
  {
   "cell_type": "code",
   "execution_count": 37,
   "outputs": [
    {
     "data": {
      "text/plain": "array([[<AxesSubplot:title={'center':'popularity'}>,\n        <AxesSubplot:title={'center':'budget'}>,\n        <AxesSubplot:title={'center':'revenue'}>],\n       [<AxesSubplot:title={'center':'runtime'}>,\n        <AxesSubplot:title={'center':'vote_count'}>,\n        <AxesSubplot:title={'center':'vote_average'}>],\n       [<AxesSubplot:title={'center':'release_year'}>,\n        <AxesSubplot:title={'center':'budget_adj'}>,\n        <AxesSubplot:title={'center':'revenue_adj'}>]], dtype=object)"
     },
     "execution_count": 37,
     "metadata": {},
     "output_type": "execute_result"
    },
    {
     "data": {
      "text/plain": "<Figure size 1440x576 with 9 Axes>",
      "image/png": "[encoded data removed]"
     },
     "metadata": {
      "needs_background": "light"
     },
     "output_type": "display_data"
    }
   ],
   "source": [
    "mov_df.hist(figsize= (20,8))"
   ],
   "metadata": {
    "collapsed": false,
    "pycharm": {
     "name": "#%%\n"
    }
   }
  },
  {
   "cell_type": "markdown",
   "source": [
    "The above charts shows a correlation between each of the columns and the value count of each of the column in the dataset. The first three charts show a chart that is skewed to the right while the chart of release year happens to be skewed to the left."
   ],
   "metadata": {
    "collapsed": false,
    "pycharm": {
     "name": "#%% md\n"
    }
   }
  },
  {
   "cell_type": "markdown",
   "metadata": {},
   "source": [
    "<a id='eda'></a>\n",
    "## Exploratory Data Analysis\n",
    "\n",
    ">In this section, we would carry out exploratory analysis to answer some of the questions that have been listed in the Introduction Section. We would see some trends and insights that are all gotten from our dataset.\n",
    "\n",
    "### What are the top 5 most popular movies released between 1960-2015?\n",
    "\n",
    ">Since the popularity column is in a descending order, to get the top 5 most popular movies of all time, we simply check the top 5 rows of the dataset to print out the result\n"
   ]
  },
  {
   "cell_type": "code",
   "execution_count": 38,
   "outputs": [
    {
     "data": {
      "text/plain": "   popularity     budget     revenue                original_title  \\\n0   32.985763  150000000  1513528810                Jurassic World   \n1   28.419936  150000000   378436354            Mad Max: Fury Road   \n2   13.112507  110000000   295238201                     Insurgent   \n3   11.173104  200000000  2068178225  Star Wars: The Force Awakens   \n4    9.335014  190000000  1506249360                     Furious 7   \n\n                                                cast          director  \\\n0  [Chris Pratt, Bryce Dallas Howard, Irrfan Khan...   Colin Trevorrow   \n1  [Tom Hardy, Charlize Theron, Hugh Keays-Byrne,...     George Miller   \n2  [Shailene Woodley, Theo James, Kate Winslet, A...  Robert Schwentke   \n3  [Harrison Ford, Mark Hamill, Carrie Fisher, Ad...       J.J. Abrams   \n4  [Vin Diesel, Paul Walker, Jason Statham, Miche...         James Wan   \n\n   runtime                                          genres release_date  \\\n0      124  [Action, Adventure, Science Fiction, Thriller]       6/9/15   \n1      120  [Action, Adventure, Science Fiction, Thriller]      5/13/15   \n2      119          [Adventure, Science Fiction, Thriller]      3/18/15   \n3      136   [Action, Adventure, Science Fiction, Fantasy]     12/15/15   \n4      137                       [Action, Crime, Thriller]       4/1/15   \n\n   vote_count  vote_average  release_year    budget_adj   revenue_adj  \n0        5562           6.5          2015  1.379999e+08  1.392446e+09  \n1        6185           7.1          2015  1.379999e+08  3.481613e+08  \n2        2480           6.3          2015  1.012000e+08  2.716190e+08  \n3        5292           7.5          2015  1.839999e+08  1.902723e+09  \n4        2947           7.3          2015  1.747999e+08  1.385749e+09  ",
      "text/html": "<div>\n<style scoped>\n    .dataframe tbody tr th:only-of-type {\n        vertical-align: middle;\n    }\n\n    .dataframe tbody tr th {\n        vertical-align: top;\n    }\n\n    .dataframe thead th {\n        text-align: right;\n    }\n</style>\n<table border=\"1\" class=\"dataframe\">\n  <thead>\n    <tr style=\"text-align: right;\">\n      <th></th>\n      <th>popularity</th>\n      <th>budget</th>\n      <th>revenue</th>\n      <th>original_title</th>\n      <th>cast</th>\n      <th>director</th>\n      <th>runtime</th>\n      <th>genres</th>\n      <th>release_date</th>\n      <th>vote_count</th>\n      <th>vote_average</th>\n      <th>release_year</th>\n      <th>budget_adj</th>\n      <th>revenue_adj</th>\n    </tr>\n  </thead>\n  <tbody>\n    <tr>\n      <th>0</th>\n      <td>32.985763</td>\n      <td>150000000</td>\n      <td>1513528810</td>\n      <td>Jurassic World</td>\n      <td>[Chris Pratt, Bryce Dallas Howard, Irrfan Khan...</td>\n      <td>Colin Trevorrow</td>\n      <td>124</td>\n      <td>[Action, Adventure, Science Fiction, Thriller]</td>\n      <td>6/9/15</td>\n      <td>5562</td>\n      <td>6.5</td>\n      <td>2015</td>\n      <td>1.379999e+08</td>\n      <td>1.392446e+09</td>\n    </tr>\n    <tr>\n      <th>1</th>\n      <td>28.419936</td>\n      <td>150000000</td>\n      <td>378436354</td>\n      <td>Mad Max: Fury Road</td>\n      <td>[Tom Hardy, Charlize Theron, Hugh Keays-Byrne,...</td>\n      <td>George Miller</td>\n      <td>120</td>\n      <td>[Action, Adventure, Science Fiction, Thriller]</td>\n      <td>5/13/15</td>\n      <td>6185</td>\n      <td>7.1</td>\n      <td>2015</td>\n      <td>1.379999e+08</td>\n      <td>3.481613e+08</td>\n    </tr>\n    <tr>\n      <th>2</th>\n      <td>13.112507</td>\n      <td>110000000</td>\n      <td>295238201</td>\n      <td>Insurgent</td>\n      <td>[Shailene Woodley, Theo James, Kate Winslet, A...</td>\n      <td>Robert Schwentke</td>\n      <td>119</td>\n      <td>[Adventure, Science Fiction, Thriller]</td>\n      <td>3/18/15</td>\n      <td>2480</td>\n      <td>6.3</td>\n      <td>2015</td>\n      <td>1.012000e+08</td>\n      <td>2.716190e+08</td>\n    </tr>\n    <tr>\n      <th>3</th>\n      <td>11.173104</td>\n      <td>200000000</td>\n      <td>2068178225</td>\n      <td>Star Wars: The Force Awakens</td>\n      <td>[Harrison Ford, Mark Hamill, Carrie Fisher, Ad...</td>\n      <td>J.J. Abrams</td>\n      <td>136</td>\n      <td>[Action, Adventure, Science Fiction, Fantasy]</td>\n      <td>12/15/15</td>\n      <td>5292</td>\n      <td>7.5</td>\n      <td>2015</td>\n      <td>1.839999e+08</td>\n      <td>1.902723e+09</td>\n    </tr>\n    <tr>\n      <th>4</th>\n      <td>9.335014</td>\n      <td>190000000</td>\n      <td>1506249360</td>\n      <td>Furious 7</td>\n      <td>[Vin Diesel, Paul Walker, Jason Statham, Miche...</td>\n      <td>James Wan</td>\n      <td>137</td>\n      <td>[Action, Crime, Thriller]</td>\n      <td>4/1/15</td>\n      <td>2947</td>\n      <td>7.3</td>\n      <td>2015</td>\n      <td>1.747999e+08</td>\n      <td>1.385749e+09</td>\n    </tr>\n  </tbody>\n</table>\n</div>"
     },
     "execution_count": 38,
     "metadata": {},
     "output_type": "execute_result"
    }
   ],
   "source": [
    "# Top 5 popular movies column\n",
    "popular_five = mov_df.loc[:4]\n",
    "popular_five"
   ],
   "metadata": {
    "collapsed": false,
    "pycharm": {
     "name": "#%%\n"
    }
   }
  },
  {
   "cell_type": "code",
   "execution_count": 39,
   "outputs": [],
   "source": [
    "# making the original title column the index to the dataset\n",
    "popular_five.set_index('original_title', inplace = True)"
   ],
   "metadata": {
    "collapsed": false,
    "pycharm": {
     "name": "#%%\n"
    }
   }
  },
  {
   "cell_type": "code",
   "execution_count": 40,
   "outputs": [
    {
     "data": {
      "text/plain": "                              popularity     budget     revenue  \\\noriginal_title                                                    \nJurassic World                 32.985763  150000000  1513528810   \nMad Max: Fury Road             28.419936  150000000   378436354   \nInsurgent                      13.112507  110000000   295238201   \nStar Wars: The Force Awakens   11.173104  200000000  2068178225   \nFurious 7                       9.335014  190000000  1506249360   \n\n                                                                           cast  \\\noriginal_title                                                                    \nJurassic World                [Chris Pratt, Bryce Dallas Howard, Irrfan Khan...   \nMad Max: Fury Road            [Tom Hardy, Charlize Theron, Hugh Keays-Byrne,...   \nInsurgent                     [Shailene Woodley, Theo James, Kate Winslet, A...   \nStar Wars: The Force Awakens  [Harrison Ford, Mark Hamill, Carrie Fisher, Ad...   \nFurious 7                     [Vin Diesel, Paul Walker, Jason Statham, Miche...   \n\n                                      director  runtime  \\\noriginal_title                                            \nJurassic World                 Colin Trevorrow      124   \nMad Max: Fury Road               George Miller      120   \nInsurgent                     Robert Schwentke      119   \nStar Wars: The Force Awakens       J.J. Abrams      136   \nFurious 7                            James Wan      137   \n\n                                                                      genres  \\\noriginal_title                                                                 \nJurassic World                [Action, Adventure, Science Fiction, Thriller]   \nMad Max: Fury Road            [Action, Adventure, Science Fiction, Thriller]   \nInsurgent                             [Adventure, Science Fiction, Thriller]   \nStar Wars: The Force Awakens   [Action, Adventure, Science Fiction, Fantasy]   \nFurious 7                                          [Action, Crime, Thriller]   \n\n                             release_date  vote_count  vote_average  \\\noriginal_title                                                        \nJurassic World                     6/9/15        5562           6.5   \nMad Max: Fury Road                5/13/15        6185           7.1   \nInsurgent                         3/18/15        2480           6.3   \nStar Wars: The Force Awakens     12/15/15        5292           7.5   \nFurious 7                          4/1/15        2947           7.3   \n\n                              release_year    budget_adj   revenue_adj  \noriginal_title                                                          \nJurassic World                        2015  1.379999e+08  1.392446e+09  \nMad Max: Fury Road                    2015  1.379999e+08  3.481613e+08  \nInsurgent                             2015  1.012000e+08  2.716190e+08  \nStar Wars: The Force Awakens          2015  1.839999e+08  1.902723e+09  \nFurious 7                             2015  1.747999e+08  1.385749e+09  ",
      "text/html": "<div>\n<style scoped>\n    .dataframe tbody tr th:only-of-type {\n        vertical-align: middle;\n    }\n\n    .dataframe tbody tr th {\n        vertical-align: top;\n    }\n\n    .dataframe thead th {\n        text-align: right;\n    }\n</style>\n<table border=\"1\" class=\"dataframe\">\n  <thead>\n    <tr style=\"text-align: right;\">\n      <th></th>\n      <th>popularity</th>\n      <th>budget</th>\n      <th>revenue</th>\n      <th>cast</th>\n      <th>director</th>\n      <th>runtime</th>\n      <th>genres</th>\n      <th>release_date</th>\n      <th>vote_count</th>\n      <th>vote_average</th>\n      <th>release_year</th>\n      <th>budget_adj</th>\n      <th>revenue_adj</th>\n    </tr>\n    <tr>\n      <th>original_title</th>\n      <th></th>\n      <th></th>\n      <th></th>\n      <th></th>\n      <th></th>\n      <th></th>\n      <th></th>\n      <th></th>\n      <th></th>\n      <th></th>\n      <th></th>\n      <th></th>\n      <th></th>\n    </tr>\n  </thead>\n  <tbody>\n    <tr>\n      <th>Jurassic World</th>\n      <td>32.985763</td>\n      <td>150000000</td>\n      <td>1513528810</td>\n      <td>[Chris Pratt, Bryce Dallas Howard, Irrfan Khan...</td>\n      <td>Colin Trevorrow</td>\n      <td>124</td>\n      <td>[Action, Adventure, Science Fiction, Thriller]</td>\n      <td>6/9/15</td>\n      <td>5562</td>\n      <td>6.5</td>\n      <td>2015</td>\n      <td>1.379999e+08</td>\n      <td>1.392446e+09</td>\n    </tr>\n    <tr>\n      <th>Mad Max: Fury Road</th>\n      <td>28.419936</td>\n      <td>150000000</td>\n      <td>378436354</td>\n      <td>[Tom Hardy, Charlize Theron, Hugh Keays-Byrne,...</td>\n      <td>George Miller</td>\n      <td>120</td>\n      <td>[Action, Adventure, Science Fiction, Thriller]</td>\n      <td>5/13/15</td>\n      <td>6185</td>\n      <td>7.1</td>\n      <td>2015</td>\n      <td>1.379999e+08</td>\n      <td>3.481613e+08</td>\n    </tr>\n    <tr>\n      <th>Insurgent</th>\n      <td>13.112507</td>\n      <td>110000000</td>\n      <td>295238201</td>\n      <td>[Shailene Woodley, Theo James, Kate Winslet, A...</td>\n      <td>Robert Schwentke</td>\n      <td>119</td>\n      <td>[Adventure, Science Fiction, Thriller]</td>\n      <td>3/18/15</td>\n      <td>2480</td>\n      <td>6.3</td>\n      <td>2015</td>\n      <td>1.012000e+08</td>\n      <td>2.716190e+08</td>\n    </tr>\n    <tr>\n      <th>Star Wars: The Force Awakens</th>\n      <td>11.173104</td>\n      <td>200000000</td>\n      <td>2068178225</td>\n      <td>[Harrison Ford, Mark Hamill, Carrie Fisher, Ad...</td>\n      <td>J.J. Abrams</td>\n      <td>136</td>\n      <td>[Action, Adventure, Science Fiction, Fantasy]</td>\n      <td>12/15/15</td>\n      <td>5292</td>\n      <td>7.5</td>\n      <td>2015</td>\n      <td>1.839999e+08</td>\n      <td>1.902723e+09</td>\n    </tr>\n    <tr>\n      <th>Furious 7</th>\n      <td>9.335014</td>\n      <td>190000000</td>\n      <td>1506249360</td>\n      <td>[Vin Diesel, Paul Walker, Jason Statham, Miche...</td>\n      <td>James Wan</td>\n      <td>137</td>\n      <td>[Action, Crime, Thriller]</td>\n      <td>4/1/15</td>\n      <td>2947</td>\n      <td>7.3</td>\n      <td>2015</td>\n      <td>1.747999e+08</td>\n      <td>1.385749e+09</td>\n    </tr>\n  </tbody>\n</table>\n</div>"
     },
     "execution_count": 40,
     "metadata": {},
     "output_type": "execute_result"
    }
   ],
   "source": [
    "popular_five"
   ],
   "metadata": {
    "collapsed": false,
    "pycharm": {
     "name": "#%%\n"
    }
   }
  },
  {
   "cell_type": "markdown",
   "metadata": {},
   "source": [
    "### In the 21st Century, In which year was the most movies released?\n",
    "> In order to get the number of movies produced in the 21st Century i.e 2000 and above, the following steps are carried out."
   ]
  },
  {
   "cell_type": "code",
   "execution_count": 41,
   "metadata": {
    "collapsed": true
   },
   "outputs": [
    {
     "data": {
      "text/plain": "      popularity     budget     revenue                original_title  \\\n0      32.985763  150000000  1513528810                Jurassic World   \n1      28.419936  150000000   378436354            Mad Max: Fury Road   \n2      13.112507  110000000   295238201                     Insurgent   \n3      11.173104  200000000  2068178225  Star Wars: The Force Awakens   \n4       9.335014  190000000  1506249360                     Furious 7   \n...          ...        ...         ...                           ...   \n8883    0.015997   15000000     5217498                  The In Crowd   \n8884    0.006865          0           0   Phir Bhi Dil Hai Hindustani   \n8885    0.005784          0           0              The Tao of Steve   \n8886    0.080819          0           0             George Washington   \n8887    0.004010          0           0               Is It Fall Yet?   \n\n                                                   cast  \\\n0     [Chris Pratt, Bryce Dallas Howard, Irrfan Khan...   \n1     [Tom Hardy, Charlize Theron, Hugh Keays-Byrne,...   \n2     [Shailene Woodley, Theo James, Kate Winslet, A...   \n3     [Harrison Ford, Mark Hamill, Carrie Fisher, Ad...   \n4     [Vin Diesel, Paul Walker, Jason Statham, Miche...   \n...                                                 ...   \n8883  [Susan Ward, Lori Heuring, Matthew Settle, Nat...   \n8884  [Juhi Chawla, Shah Rukh Khan, Johnny Lever, Sh...   \n8885  [Donal Logue, Ayelet Kaznelson, John Hines, Jo...   \n8886  [Candace Evanofski, Donald Holden, Damian Jewa...   \n8887                   [Tracy Grandstaff, Wendy Hoopes]   \n\n                    director  runtime  \\\n0            Colin Trevorrow      124   \n1              George Miller      120   \n2           Robert Schwentke      119   \n3                J.J. Abrams      136   \n4                  James Wan      137   \n...                      ...      ...   \n8883            Mary Lambert      105   \n8884              Aziz Mirza      168   \n8885        Jenniphr Goodman       87   \n8886      David Gordon Green       89   \n8887  Karen Disher|Guy Moore       75   \n\n                                              genres release_date  vote_count  \\\n0     [Action, Adventure, Science Fiction, Thriller]       6/9/15        5562   \n1     [Action, Adventure, Science Fiction, Thriller]      5/13/15        6185   \n2             [Adventure, Science Fiction, Thriller]      3/18/15        2480   \n3      [Action, Adventure, Science Fiction, Fantasy]     12/15/15        5292   \n4                          [Action, Crime, Thriller]       4/1/15        2947   \n...                                              ...          ...         ...   \n8883                                      [Thriller]      7/19/00          12   \n8884                        [Romance, Comedy, Drama]      1/21/00          12   \n8885                               [Comedy, Romance]       8/4/00          13   \n8886                                         [Drama]      10/1/00          14   \n8887                             [Animation, Comedy]      8/27/00          14   \n\n      vote_average  release_year    budget_adj   revenue_adj  \n0              6.5          2015  1.379999e+08  1.392446e+09  \n1              7.1          2015  1.379999e+08  3.481613e+08  \n2              6.3          2015  1.012000e+08  2.716190e+08  \n3              7.5          2015  1.839999e+08  1.902723e+09  \n4              7.3          2015  1.747999e+08  1.385749e+09  \n...            ...           ...           ...           ...  \n8883           5.2          2000  1.899438e+07  6.606877e+06  \n8884           7.2          2000  0.000000e+00  0.000000e+00  \n8885           5.5          2000  0.000000e+00  0.000000e+00  \n8886           4.9          2000  0.000000e+00  0.000000e+00  \n8887           7.3          2000  0.000000e+00  0.000000e+00  \n\n[7054 rows x 14 columns]",
      "text/html": "<div>\n<style scoped>\n    .dataframe tbody tr th:only-of-type {\n        vertical-align: middle;\n    }\n\n    .dataframe tbody tr th {\n        vertical-align: top;\n    }\n\n    .dataframe thead th {\n        text-align: right;\n    }\n</style>\n<table border=\"1\" class=\"dataframe\">\n  <thead>\n    <tr style=\"text-align: right;\">\n      <th></th>\n      <th>popularity</th>\n      <th>budget</th>\n      <th>revenue</th>\n      <th>original_title</th>\n      <th>cast</th>\n      <th>director</th>\n      <th>runtime</th>\n      <th>genres</th>\n      <th>release_date</th>\n      <th>vote_count</th>\n      <th>vote_average</th>\n      <th>release_year</th>\n      <th>budget_adj</th>\n      <th>revenue_adj</th>\n    </tr>\n  </thead>\n  <tbody>\n    <tr>\n      <th>0</th>\n      <td>32.985763</td>\n      <td>150000000</td>\n      <td>1513528810</td>\n      <td>Jurassic World</td>\n      <td>[Chris Pratt, Bryce Dallas Howard, Irrfan Khan...</td>\n      <td>Colin Trevorrow</td>\n      <td>124</td>\n      <td>[Action, Adventure, Science Fiction, Thriller]</td>\n      <td>6/9/15</td>\n      <td>5562</td>\n      <td>6.5</td>\n      <td>2015</td>\n      <td>1.379999e+08</td>\n      <td>1.392446e+09</td>\n    </tr>\n    <tr>\n      <th>1</th>\n      <td>28.419936</td>\n      <td>150000000</td>\n      <td>378436354</td>\n      <td>Mad Max: Fury Road</td>\n      <td>[Tom Hardy, Charlize Theron, Hugh Keays-Byrne,...</td>\n      <td>George Miller</td>\n      <td>120</td>\n      <td>[Action, Adventure, Science Fiction, Thriller]</td>\n      <td>5/13/15</td>\n      <td>6185</td>\n      <td>7.1</td>\n      <td>2015</td>\n      <td>1.379999e+08</td>\n      <td>3.481613e+08</td>\n    </tr>\n    <tr>\n      <th>2</th>\n      <td>13.112507</td>\n      <td>110000000</td>\n      <td>295238201</td>\n      <td>Insurgent</td>\n      <td>[Shailene Woodley, Theo James, Kate Winslet, A...</td>\n      <td>Robert Schwentke</td>\n      <td>119</td>\n      <td>[Adventure, Science Fiction, Thriller]</td>\n      <td>3/18/15</td>\n      <td>2480</td>\n      <td>6.3</td>\n      <td>2015</td>\n      <td>1.012000e+08</td>\n      <td>2.716190e+08</td>\n    </tr>\n    <tr>\n      <th>3</th>\n      <td>11.173104</td>\n      <td>200000000</td>\n      <td>2068178225</td>\n      <td>Star Wars: The Force Awakens</td>\n      <td>[Harrison Ford, Mark Hamill, Carrie Fisher, Ad...</td>\n      <td>J.J. Abrams</td>\n      <td>136</td>\n      <td>[Action, Adventure, Science Fiction, Fantasy]</td>\n      <td>12/15/15</td>\n      <td>5292</td>\n      <td>7.5</td>\n      <td>2015</td>\n      <td>1.839999e+08</td>\n      <td>1.902723e+09</td>\n    </tr>\n    <tr>\n      <th>4</th>\n      <td>9.335014</td>\n      <td>190000000</td>\n      <td>1506249360</td>\n      <td>Furious 7</td>\n      <td>[Vin Diesel, Paul Walker, Jason Statham, Miche...</td>\n      <td>James Wan</td>\n      <td>137</td>\n      <td>[Action, Crime, Thriller]</td>\n      <td>4/1/15</td>\n      <td>2947</td>\n      <td>7.3</td>\n      <td>2015</td>\n      <td>1.747999e+08</td>\n      <td>1.385749e+09</td>\n    </tr>\n    <tr>\n      <th>...</th>\n      <td>...</td>\n      <td>...</td>\n      <td>...</td>\n      <td>...</td>\n      <td>...</td>\n      <td>...</td>\n      <td>...</td>\n      <td>...</td>\n      <td>...</td>\n      <td>...</td>\n      <td>...</td>\n      <td>...</td>\n      <td>...</td>\n      <td>...</td>\n    </tr>\n    <tr>\n      <th>8883</th>\n      <td>0.015997</td>\n      <td>15000000</td>\n      <td>5217498</td>\n      <td>The In Crowd</td>\n      <td>[Susan Ward, Lori Heuring, Matthew Settle, Nat...</td>\n      <td>Mary Lambert</td>\n      <td>105</td>\n      <td>[Thriller]</td>\n      <td>7/19/00</td>\n      <td>12</td>\n      <td>5.2</td>\n      <td>2000</td>\n      <td>1.899438e+07</td>\n      <td>6.606877e+06</td>\n    </tr>\n    <tr>\n      <th>8884</th>\n      <td>0.006865</td>\n      <td>0</td>\n      <td>0</td>\n      <td>Phir Bhi Dil Hai Hindustani</td>\n      <td>[Juhi Chawla, Shah Rukh Khan, Johnny Lever, Sh...</td>\n      <td>Aziz Mirza</td>\n      <td>168</td>\n      <td>[Romance, Comedy, Drama]</td>\n      <td>1/21/00</td>\n      <td>12</td>\n      <td>7.2</td>\n      <td>2000</td>\n      <td>0.000000e+00</td>\n      <td>0.000000e+00</td>\n    </tr>\n    <tr>\n      <th>8885</th>\n      <td>0.005784</td>\n      <td>0</td>\n      <td>0</td>\n      <td>The Tao of Steve</td>\n      <td>[Donal Logue, Ayelet Kaznelson, John Hines, Jo...</td>\n      <td>Jenniphr Goodman</td>\n      <td>87</td>\n      <td>[Comedy, Romance]</td>\n      <td>8/4/00</td>\n      <td>13</td>\n      <td>5.5</td>\n      <td>2000</td>\n      <td>0.000000e+00</td>\n      <td>0.000000e+00</td>\n    </tr>\n    <tr>\n      <th>8886</th>\n      <td>0.080819</td>\n      <td>0</td>\n      <td>0</td>\n      <td>George Washington</td>\n      <td>[Candace Evanofski, Donald Holden, Damian Jewa...</td>\n      <td>David Gordon Green</td>\n      <td>89</td>\n      <td>[Drama]</td>\n      <td>10/1/00</td>\n      <td>14</td>\n      <td>4.9</td>\n      <td>2000</td>\n      <td>0.000000e+00</td>\n      <td>0.000000e+00</td>\n    </tr>\n    <tr>\n      <th>8887</th>\n      <td>0.004010</td>\n      <td>0</td>\n      <td>0</td>\n      <td>Is It Fall Yet?</td>\n      <td>[Tracy Grandstaff, Wendy Hoopes]</td>\n      <td>Karen Disher|Guy Moore</td>\n      <td>75</td>\n      <td>[Animation, Comedy]</td>\n      <td>8/27/00</td>\n      <td>14</td>\n      <td>7.3</td>\n      <td>2000</td>\n      <td>0.000000e+00</td>\n      <td>0.000000e+00</td>\n    </tr>\n  </tbody>\n</table>\n<p>7054 rows × 14 columns</p>\n</div>"
     },
     "execution_count": 41,
     "metadata": {},
     "output_type": "execute_result"
    }
   ],
   "source": [
    "# The rows for the movies released in year 2000 and above are filtered out.\n",
    "mov_21st = mov_df[mov_df.release_year >= 2000]\n",
    "mov_21st"
   ]
  },
  {
   "cell_type": "code",
   "execution_count": 42,
   "outputs": [
    {
     "data": {
      "text/plain": "2014    682\n2013    649\n2015    617\n2012    574\n2011    532\n2009    525\n2008    486\n2010    475\n2007    432\n2006    404\n2005    361\n2004    307\n2003    281\n2002    264\n2001    241\n2000    224\nName: release_year, dtype: int64"
     },
     "execution_count": 42,
     "metadata": {},
     "output_type": "execute_result"
    }
   ],
   "source": [
    "mov_21st.release_year.value_counts()    # Shows a count of the total number of movies released in each year"
   ],
   "metadata": {
    "collapsed": false,
    "pycharm": {
     "name": "#%%\n"
    }
   }
  },
  {
   "cell_type": "code",
   "execution_count": 43,
   "outputs": [],
   "source": [
    "def countplot(x):\n",
    "    plt.figure(figsize= (20, 8))\n",
    "    sns.countplot(x)"
   ],
   "metadata": {
    "collapsed": false,
    "pycharm": {
     "name": "#%%\n"
    }
   }
  },
  {
   "cell_type": "code",
   "execution_count": 50,
   "outputs": [
    {
     "name": "stderr",
     "output_type": "stream",
     "text": [
      "C:\\Users\\Testys\\anaconda3\\lib\\site-packages\\seaborn\\_decorators.py:36: FutureWarning: Pass the following variable as a keyword arg: x. From version 0.12, the only valid positional argument will be `data`, and passing other arguments without an explicit keyword will result in an error or misinterpretation.\n",
      "  warnings.warn(\n"
     ]
    },
    {
     "data": {
      "text/plain": "Text(0.5, 1.0, 'Number of movies released in the 21st century')"
     },
     "execution_count": 50,
     "metadata": {},
     "output_type": "execute_result"
    },
    {
     "data": {
      "text/plain": "<Figure size 1440x576 with 1 Axes>",
      "image/png": "[encoded data removed]"
     },
     "metadata": {
      "needs_background": "light"
     },
     "output_type": "display_data"
    }
   ],
   "source": [
    "countplot(mov_21st.release_year)\n",
    "plt.title('Number of movies released in the 21st century')"
   ],
   "metadata": {
    "collapsed": false,
    "pycharm": {
     "name": "#%%\n"
    }
   }
  },
  {
   "cell_type": "markdown",
   "source": [
    "The Chart is shows the graph of the number of movies released in each year against the year which they where released. The chart happens to be skewed to the left."
   ],
   "metadata": {
    "collapsed": false,
    "pycharm": {
     "name": "#%% md\n"
    }
   }
  },
  {
   "cell_type": "markdown",
   "source": [
    "### Which directors produced the most movies in the 21st Century?\n",
    "> Going ahead, we check which directors produced the most movies according to our Data. Then we plot a graph showing the top 5 Director with the most movies"
   ],
   "metadata": {
    "collapsed": false,
    "pycharm": {
     "name": "#%% md\n"
    }
   }
  },
  {
   "cell_type": "code",
   "execution_count": 51,
   "outputs": [],
   "source": [
    "# Gets the number of movies produced by each director\n",
    "dir_count = mov_21st.director.value_counts()\n",
    "most_dir = dir_count[dir_count > 11]"
   ],
   "metadata": {
    "collapsed": false,
    "pycharm": {
     "name": "#%%\n"
    }
   }
  },
  {
   "cell_type": "code",
   "execution_count": 52,
   "outputs": [
    {
     "data": {
      "text/plain": "Steven Soderbergh                  18\nTyler Perry                        17\nWoody Allen                        16\nUwe Boll                           16\nRidley Scott                       13\n                                   ..\nMichael G. Bartlett                 1\nTim Matheson|Reynaldo Rodriguez     1\nBrett Pierce|Drew T. Pierce         1\nMarc SchÃ¶lermann                   1\nWilson Yip                          1\nName: director, Length: 4054, dtype: int64"
     },
     "execution_count": 52,
     "metadata": {},
     "output_type": "execute_result"
    }
   ],
   "source": [
    "dir_count"
   ],
   "metadata": {
    "collapsed": false,
    "pycharm": {
     "name": "#%%\n"
    }
   }
  },
  {
   "cell_type": "code",
   "execution_count": 53,
   "outputs": [
    {
     "data": {
      "text/plain": "Steven Soderbergh    18\nTyler Perry          17\nWoody Allen          16\nUwe Boll             16\nRidley Scott         13\nClint Eastwood       13\nName: director, dtype: int64"
     },
     "execution_count": 53,
     "metadata": {},
     "output_type": "execute_result"
    }
   ],
   "source": [
    "most_dir"
   ],
   "metadata": {
    "collapsed": false,
    "pycharm": {
     "name": "#%%\n"
    }
   }
  },
  {
   "cell_type": "code",
   "execution_count": 54,
   "outputs": [],
   "source": [
    "directors = list(most_dir.index)\n",
    "num_of_movies = [18,17,16,16,13,13]"
   ],
   "metadata": {
    "collapsed": false,
    "pycharm": {
     "name": "#%%\n"
    }
   }
  },
  {
   "cell_type": "code",
   "execution_count": 55,
   "outputs": [],
   "source": [
    "def bar(x,y):\n",
    "    plt.figure(figsize= (20,8))\n",
    "    sns.barplot(x, y )"
   ],
   "metadata": {
    "collapsed": false,
    "pycharm": {
     "name": "#%%\n"
    }
   }
  },
  {
   "cell_type": "code",
   "execution_count": 56,
   "outputs": [
    {
     "name": "stderr",
     "output_type": "stream",
     "text": [
      "C:\\Users\\Testys\\anaconda3\\lib\\site-packages\\seaborn\\_decorators.py:36: FutureWarning: Pass the following variables as keyword args: x, y. From version 0.12, the only valid positional argument will be `data`, and passing other arguments without an explicit keyword will result in an error or misinterpretation.\n",
      "  warnings.warn(\n"
     ]
    },
    {
     "data": {
      "text/plain": "Text(0, 0.5, 'Number of Movies Directed')"
     },
     "execution_count": 56,
     "metadata": {},
     "output_type": "execute_result"
    },
    {
     "data": {
      "text/plain": "<Figure size 1440x576 with 1 Axes>",
      "image/png": "[encoded data removed]"
     },
     "metadata": {
      "needs_background": "light"
     },
     "output_type": "display_data"
    }
   ],
   "source": [
    "bar(directors, num_of_movies)\n",
    "plt.title(\"Number of Movies Directed against Director's\")\n",
    "plt.xlabel(\"Director's Name\")\n",
    "plt.ylabel('Number of Movies Directed')"
   ],
   "metadata": {
    "collapsed": false,
    "pycharm": {
     "name": "#%%\n"
    }
   }
  },
  {
   "cell_type": "markdown",
   "source": [
    "The charts shows the top five directors and how many movies they released in the 21st Century."
   ],
   "metadata": {
    "collapsed": false,
    "pycharm": {
     "name": "#%% md\n"
    }
   }
  },
  {
   "cell_type": "markdown",
   "source": [
    "### In what year was the most profit made?\n",
    "> First, we start by creating a dataset to hold the sum of all the revenues and budgets in a year, using the budget_adj and revenue_adj column. Then, we get the profit made by subtracting the budget from the revenue made."
   ],
   "metadata": {
    "collapsed": false,
    "pycharm": {
     "name": "#%% md\n"
    }
   }
  },
  {
   "cell_type": "code",
   "execution_count": 57,
   "outputs": [
    {
     "name": "stderr",
     "output_type": "stream",
     "text": [
      "<ipython-input-57-1edf898461e6>:1: FutureWarning: Indexing with multiple keys (implicitly converted to a tuple of keys) will be deprecated, use a list instead.\n",
      "  profit_data = mov_df.groupby('release_year')['budget_adj', 'revenue_adj'].sum()\n"
     ]
    }
   ],
   "source": [
    "profit_data = mov_df.groupby('release_year')['budget_adj', 'revenue_adj'].sum()"
   ],
   "metadata": {
    "collapsed": false,
    "pycharm": {
     "name": "#%%\n"
    }
   }
  },
  {
   "cell_type": "code",
   "execution_count": 58,
   "outputs": [],
   "source": [
    "profit_data['profit'] =profit_data['revenue_adj'] - profit_data['budget_adj']"
   ],
   "metadata": {
    "collapsed": false,
    "pycharm": {
     "name": "#%%\n"
    }
   }
  },
  {
   "cell_type": "code",
   "execution_count": 59,
   "outputs": [],
   "source": [
    "profit_21 = profit_data[profit_data.index >= 2000]  # Profit made from 2000 and above."
   ],
   "metadata": {
    "collapsed": false,
    "pycharm": {
     "name": "#%%\n"
    }
   }
  },
  {
   "cell_type": "code",
   "execution_count": 60,
   "outputs": [
    {
     "data": {
      "text/plain": "                budget_adj   revenue_adj        profit\nrelease_year                                          \n2000          7.284599e+09  1.390224e+10  6.617644e+09\n2001          6.947987e+09  1.651436e+10  9.566371e+09\n2002          7.142208e+09  1.775188e+10  1.060967e+10\n2003          7.396432e+09  1.794416e+10  1.054773e+10\n2004          8.277766e+09  1.938755e+10  1.110978e+10\n2005          8.199242e+09  1.844209e+10  1.024285e+10\n2006          7.900387e+09  1.760497e+10  9.704578e+09\n2007          8.022720e+09  2.041464e+10  1.239192e+10\n2008          7.876373e+09  1.966902e+10  1.179265e+10\n2009          8.731727e+09  2.254393e+10  1.381221e+10\n2010          9.354101e+09  2.195903e+10  1.260493e+10\n2011          8.742180e+09  2.297046e+10  1.422828e+10\n2012          7.855890e+09  2.339698e+10  1.554109e+10\n2013          8.640560e+09  2.312342e+10  1.448286e+10\n2014          7.298578e+09  2.240982e+10  1.511124e+10\n2015          6.988821e+09  2.462144e+10  1.763262e+10",
      "text/html": "<div>\n<style scoped>\n    .dataframe tbody tr th:only-of-type {\n        vertical-align: middle;\n    }\n\n    .dataframe tbody tr th {\n        vertical-align: top;\n    }\n\n    .dataframe thead th {\n        text-align: right;\n    }\n</style>\n<table border=\"1\" class=\"dataframe\">\n  <thead>\n    <tr style=\"text-align: right;\">\n      <th></th>\n      <th>budget_adj</th>\n      <th>revenue_adj</th>\n      <th>profit</th>\n    </tr>\n    <tr>\n      <th>release_year</th>\n      <th></th>\n      <th></th>\n      <th></th>\n    </tr>\n  </thead>\n  <tbody>\n    <tr>\n      <th>2000</th>\n      <td>7.284599e+09</td>\n      <td>1.390224e+10</td>\n      <td>6.617644e+09</td>\n    </tr>\n    <tr>\n      <th>2001</th>\n      <td>6.947987e+09</td>\n      <td>1.651436e+10</td>\n      <td>9.566371e+09</td>\n    </tr>\n    <tr>\n      <th>2002</th>\n      <td>7.142208e+09</td>\n      <td>1.775188e+10</td>\n      <td>1.060967e+10</td>\n    </tr>\n    <tr>\n      <th>2003</th>\n      <td>7.396432e+09</td>\n      <td>1.794416e+10</td>\n      <td>1.054773e+10</td>\n    </tr>\n    <tr>\n      <th>2004</th>\n      <td>8.277766e+09</td>\n      <td>1.938755e+10</td>\n      <td>1.110978e+10</td>\n    </tr>\n    <tr>\n      <th>2005</th>\n      <td>8.199242e+09</td>\n      <td>1.844209e+10</td>\n      <td>1.024285e+10</td>\n    </tr>\n    <tr>\n      <th>2006</th>\n      <td>7.900387e+09</td>\n      <td>1.760497e+10</td>\n      <td>9.704578e+09</td>\n    </tr>\n    <tr>\n      <th>2007</th>\n      <td>8.022720e+09</td>\n      <td>2.041464e+10</td>\n      <td>1.239192e+10</td>\n    </tr>\n    <tr>\n      <th>2008</th>\n      <td>7.876373e+09</td>\n      <td>1.966902e+10</td>\n      <td>1.179265e+10</td>\n    </tr>\n    <tr>\n      <th>2009</th>\n      <td>8.731727e+09</td>\n      <td>2.254393e+10</td>\n      <td>1.381221e+10</td>\n    </tr>\n    <tr>\n      <th>2010</th>\n      <td>9.354101e+09</td>\n      <td>2.195903e+10</td>\n      <td>1.260493e+10</td>\n    </tr>\n    <tr>\n      <th>2011</th>\n      <td>8.742180e+09</td>\n      <td>2.297046e+10</td>\n      <td>1.422828e+10</td>\n    </tr>\n    <tr>\n      <th>2012</th>\n      <td>7.855890e+09</td>\n      <td>2.339698e+10</td>\n      <td>1.554109e+10</td>\n    </tr>\n    <tr>\n      <th>2013</th>\n      <td>8.640560e+09</td>\n      <td>2.312342e+10</td>\n      <td>1.448286e+10</td>\n    </tr>\n    <tr>\n      <th>2014</th>\n      <td>7.298578e+09</td>\n      <td>2.240982e+10</td>\n      <td>1.511124e+10</td>\n    </tr>\n    <tr>\n      <th>2015</th>\n      <td>6.988821e+09</td>\n      <td>2.462144e+10</td>\n      <td>1.763262e+10</td>\n    </tr>\n  </tbody>\n</table>\n</div>"
     },
     "execution_count": 60,
     "metadata": {},
     "output_type": "execute_result"
    }
   ],
   "source": [
    "profit_21"
   ],
   "metadata": {
    "collapsed": false,
    "pycharm": {
     "name": "#%%\n"
    }
   }
  },
  {
   "cell_type": "code",
   "execution_count": 61,
   "outputs": [
    {
     "name": "stderr",
     "output_type": "stream",
     "text": [
      "C:\\Users\\Testys\\anaconda3\\lib\\site-packages\\seaborn\\_decorators.py:36: FutureWarning: Pass the following variables as keyword args: x, y. From version 0.12, the only valid positional argument will be `data`, and passing other arguments without an explicit keyword will result in an error or misinterpretation.\n",
      "  warnings.warn(\n"
     ]
    },
    {
     "data": {
      "text/plain": "Text(0.5, 1.0, 'Profit made per Year')"
     },
     "execution_count": 61,
     "metadata": {},
     "output_type": "execute_result"
    },
    {
     "data": {
      "text/plain": "<Figure size 1440x576 with 1 Axes>",
      "image/png": "[encoded data removed]"
     },
     "metadata": {
      "needs_background": "light"
     },
     "output_type": "display_data"
    }
   ],
   "source": [
    "bar(profit_21.index, profit_21.profit)\n",
    "plt.title('Profit made per Year')"
   ],
   "metadata": {
    "collapsed": false,
    "pycharm": {
     "name": "#%%\n"
    }
   }
  },
  {
   "cell_type": "markdown",
   "source": [
    "The above Chart shows the profit made over the years in the 21st Century from 2000 - 2015. The Chart is skewed to the left."
   ],
   "metadata": {
    "collapsed": false,
    "pycharm": {
     "name": "#%% md\n"
    }
   }
  },
  {
   "cell_type": "code",
   "execution_count": 62,
   "outputs": [
    {
     "data": {
      "text/plain": "Text(0.5, 1.0, 'Scatterplot showing a correlation of the Release year and Profit made over the year')"
     },
     "execution_count": 62,
     "metadata": {},
     "output_type": "execute_result"
    },
    {
     "data": {
      "text/plain": "<Figure size 1440x576 with 1 Axes>",
      "image/png": "[encoded data removed]"
     },
     "metadata": {
      "needs_background": "light"
     },
     "output_type": "display_data"
    }
   ],
   "source": [
    "plt.figure(figsize=(20,8))\n",
    "sns.scatterplot(x= profit_data.index, y= profit_data.profit)\n",
    "plt.title('Scatterplot showing a correlation of the Release year and Profit made over the year')"
   ],
   "metadata": {
    "collapsed": false,
    "pycharm": {
     "name": "#%%\n"
    }
   }
  },
  {
   "cell_type": "markdown",
   "source": [
    "The above is a scatterplot that shows the correlation between profit made with the year they were released."
   ],
   "metadata": {
    "collapsed": false,
    "pycharm": {
     "name": "#%% md\n"
    }
   }
  },
  {
   "cell_type": "markdown",
   "metadata": {},
   "source": [
    "<a id='conclusions'></a>\n",
    "## Conclusions\n",
    "> In the first question for analysis, Since the popularity column in the movie dataset happens to be sorted in descending order, we found out that the top 5 most popular movies from 1960 - 2015 according to their popularity rate where the first 5 columns of or dataset. This was then extracted and assigned to the popular_five dataframe. According to analysis done on this dataframe, Jurassic Park, which was released in 2015 topped the table with above 32.5 popularity rate, followed by Mad Max: Fury also released in 2015 with a popularity rate of 28.42. Other movies which appeared in the top 5 are Insurgent (2015), Star Wars: The Force Awakens (2015) and Furious 7(2015). This movies had big superstars actors playing in them like, Vin Diesel, Harrison Ford, Chris Pratt, Tom Hardy amongst other names.\n",
    ">\n",
    "> Next, we found out which year in the 21st Century had the most movies. In doing this, we created a new dataframe that selected movies with their release years above 1999. From this dataframe, we were able to extract the value counts of each years in the dataframe. With 2014 having the most movies released in the 21st century with about 682 movies released in that year, 2015 came next with 642 movies released. We went ahead to draw a bar chart showing the Number of Movies released against the year they where released.\n",
    ">\n",
    "> We then moved on to get the top directors with the most movies directed in the 21st Century. This lead us to get the value count of each directors present in our dataset. Steven Soderbough and Tyler Perry directed the most movies with 2000-2015, with a total of 18 and 17 movies directed respectively. A few other directors also directed a number of movies, we have a chart showing the number of movies they directed and each directors.\n",
    ">\n",
    "> Profit made every year where gotten by creating a new dataframe that showed the total amount made over each years and the budget put into making movies over the year. We were able to get the profit by creating a new column in the dataframe, which contain the profit made. It was calculated by subtracting the budget put into the production of movies from the total revenue made in each year. The budget_adj and the revenue_adj columns where used. A chart showing the profit made against the year it was made was plotted. This showed that the highest profit was made in 2015 with about 17.6 trillion dollars made.\n",
    ">\n",
    "> The Movie Database showed great insights on each columns in it. With further analysis, more details can be gotten from the data given.\n",
    "\n",
    "## Limitations\n",
    "> The major limitation of this data is that the correlation between the columns were very minor. Also, the poplarity column does not have a correlation with any of the columns present in the data."
   ]
  },
  {
   "cell_type": "markdown",
   "source": [],
   "metadata": {
    "collapsed": false
   }
  },
  {
   "cell_type": "code",
   "execution_count": 63,
   "metadata": {
    "collapsed": true,
    "pycharm": {
     "name": "#%%\n"
    }
   },
   "outputs": [
    {
     "data": {
      "text/plain": "1"
     },
     "execution_count": 63,
     "metadata": {},
     "output_type": "execute_result"
    }
   ],
   "source": [
    "from subprocess import call\n",
    "call(['python', '-m', 'nbconvert', 'Investigate_a_Dataset.ipynb'])"
   ]
  }
 ],
 "metadata": {
  "kernelspec": {
   "display_name": "Python 3",
   "language": "python",
   "name": "python3"
  },
  "language_info": {
   "codemirror_mode": {
    "name": "ipython",
    "version": 3
   },
   "file_extension": ".py",
   "mimetype": "text/x-python",
   "name": "python",
   "nbconvert_exporter": "python",
   "pygments_lexer": "ipython3",
   "version": "3.6.3"
  }
 },
 "nbformat": 4,
 "nbformat_minor": 2
}